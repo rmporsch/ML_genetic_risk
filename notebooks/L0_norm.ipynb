{
 "cells": [
  {
   "cell_type": "code",
   "execution_count": 15,
   "metadata": {},
   "outputs": [],
   "source": [
    "%matplotlib inline"
   ]
  },
  {
   "cell_type": "markdown",
   "metadata": {},
   "source": [
    "Using $L_0$ regularization in predicting genetic risk\n",
    "====================================\n",
    "\n",
    "The main aim of this document is to outline the code and theory of using the $L_0$ norm in a regularized regression with the objective to predict disease risk from genetic data.\n",
    "\n",
    "This document contains my thought process and understanding of the implementation of $L_0$.\n",
    "I will aim to integrate the code into existing tools so it can be easily used.\n",
    "Ideally I will also compare the performance again $L_1$ as well as $L_2$ norm (aka Lasso and Ridge regression) in predicting simulated data.\n",
    "\n",
    "## Literature used\n",
    "\n",
    "I made use of the following papers:\n",
    "\n",
    "- Learning Sparse Neural Networks through $L_0$ Regularization [link](http://arxiv.org/abs/1712.01312)\n",
    "- The Variational Garrote [link](http://link.springer.com/10.1007/s10994-013-5427-7)\n",
    "\n",
    "# Introduction\n",
    "\n",
    "Let $\\mathcal{D}$ the dataset consisting of $N$ input-output pairs $\\{(x_1, y_1), \\ldots, (x_N, y_N)\\}$ and consider the regularized minimization procedure with $L_p$ regularization of the parameters $\\omega$\n",
    "\n",
    "$$\n",
    "\\mathcal{R}(\\theta) = \\frac{1}{N} ( \\sum^N_{i=1} \\mathcal{L}(h(x_i; \\theta), y_i)) + \\lambda ||\\theta||_p\n",
    "$$\n",
    "\n",
    "with $\\theta^* = arg \\min_{\\theta}\\{\\mathcal{R}(\\theta)\\}$.\n",
    "\n",
    "While $L_1$ and $L_2$ are well defined the definition of $L_0$ varies.\n",
    "Hence I will define it as:\n",
    "$$\n",
    "||\\theta||_0 = \\sum^{|\\theta|}_{j=1} I[\\theta_j \\neq 0]\n",
    "$$\n",
    "\n",
    "Here it is important that, in contrast to $L_1$ and $L_2$, the $L_0$ norm does not shrink the parameters value but sets it wither to 0 or not 0.\n",
    "This effect might be desirable in genetic data due to high correlations among SNPs."
   ]
  },
  {
   "cell_type": "code",
   "execution_count": 16,
   "metadata": {
    "editable": false
   },
   "outputs": [],
   "source": [
    "import numpy as np\n",
    "import matplotlib.pyplot as plt\n",
    "plt.style.use('fivethirtyeight')"
   ]
  },
  {
   "cell_type": "code",
   "execution_count": 17,
   "metadata": {
    "editable": false
   },
   "outputs": [],
   "source": [
    "def l0(x):\n",
    "    return(np.sum(x!=0))\n",
    "\n",
    "def l1(x):\n",
    "    return(np.sum(np.abs(x)))\n",
    "\n",
    "def l2(x):\n",
    "    return(np.sum(np.power(x, 2)))"
   ]
  },
  {
   "cell_type": "code",
   "execution_count": 18,
   "metadata": {
    "editable": false
   },
   "outputs": [
    {
     "data": {
      "text/plain": [
       "[<matplotlib.lines.Line2D at 0x7f7bb55dd828>]"
      ]
     },
     "execution_count": 18,
     "metadata": {},
     "output_type": "execute_result"
    },
    {
     "data": {
      "image/png": "[encoded data removed]",
      "text/plain": [
       "<matplotlib.figure.Figure at 0x7f7bb57500f0>"
      ]
     },
     "metadata": {},
     "output_type": "display_data"
    }
   ],
   "source": [
    "x = np.linspace(-2, 2, 50)\n",
    "x = np.append(x, 0)\n",
    "x = np.sort(x)\n",
    "\n",
    "fig, (axs0, axs1, axs2) = plt.subplots(1, 3, sharex='all', sharey='all')\n",
    "fig.set_size_inches((10, 3))\n",
    "\n",
    "axs0.set_title('L0 norm')\n",
    "axs1.set_title('L1 norm')\n",
    "axs2.set_title('L2 norm')\n",
    "\n",
    "[k.set_xlabel(r'$\\theta$') for k in [axs0, axs1, axs2]]\n",
    "[k.set_ylabel('Penalty') for k in [axs0, axs1, axs2]]\n",
    "\n",
    "axs0.plot(x, [l0(k) for k in x])\n",
    "axs1.plot(x, [l1(k) for k in x])\n",
    "axs2.plot(x, [l2(k) for k in x])"
   ]
  },
  {
   "cell_type": "markdown",
   "metadata": {},
   "source": [
    "The plot above demonstrates nicely the penalty for different norms.\n",
    "As one can see both $p=1$ and $p=2$ allow shrinkage for large values of $\\theta$, while $p=0$ the penalty is constant."
   ]
  },
  {
   "cell_type": "markdown",
   "metadata": {},
   "source": [
    "## Minimizing $L_0$ norm for parametric models\n",
    "\n",
    "Optimization under the $L_0$ penalty is computational difficult due to the non-differentiability as well as the comninatorial nature of $2^{|\\theta|}$ (the number of possible states of the $L_0$ penalty function).\n",
    "\n",
    "Hence @Author relaxed the discrete nature of $L_0$ to allow for efficient computations.\n",
    "Here I will outline their approach first in order to understand it better.\n",
    "\n",
    "The first step is to reformulate the $L_0$ norm under the parameters $\\theta$.\n",
    "Hence let,\n",
    "$$\n",
    "\\begin{matrix}\n",
    "\\theta_j = \\tilde{\\theta_j}z_j, & z_j \\in \\{0, 1\\}, & \\tilde{\\theta}_j \\neq 0, & ||\\theta||_0 = \\sum^{|\\theta|}_{j=1} z_j\n",
    "\\end{matrix}\n",
    "$$\n",
    "\n",
    "Therefore $z_j$ can be considered as binary gates, and the $L_0$ norm can be seen as the amount of gates being turned on.\n",
    "Then we can reformulate the minimization from Eq. 1 by letting $q(z_j|\\pi_j) = Bern(\\pi_j)$\n",
    "$$\n",
    "\\mathcal{R}(\\tilde{\\theta}, \\pi) = \\mathbb{E}_{q(z|\\pi)} [\\frac{1}{N} ( \\sum^N_{i=1} \\mathcal{L}(h(x_i; \\tilde{\\theta} \\otimes z), y_i)] + \\lambda \\sum^{|\\theta|}_{j=1} \\pi_j \\\\\n",
    "\\quad \\textrm{with} \\quad \n",
    "\\theta^*, \\pi^* = arg \\min_{\\tilde{\\theta}, \\pi} \\{\\mathcal{R}(\\tilde{\\theta}, \\pi)\\}\n",
    "$$\n",
    "\n",
    "Here we encounter the problem of non-differentiability of the left hand side of the previous equation size z is discrete (the penalty term is straight forward to minimize).\n",
    "It seems there are methods to optimize this functions but they are supposed to suffer from high variance and biased gradients.\n",
    "Therefore @Author used an alternative to smooth the objective function for efficient gradient based optimization.\n",
    "\n",
    "Let $s$ be a continuous random variable with distribution $q(s)$ that has the parameter $\\phi$ we can then let $z$ be given a hard sigmoid function:\n",
    "$$\n",
    "s \\sim q(s|\\phi) \\\\\n",
    "z = min(1, max(0, s))\n",
    "$$\n",
    "This allows the gate to still be $0$ as well as the computation of the probability of non-zero parameters (number of active gates) with a simple cdf ($Q(\\cdot)$ of s:\n",
    "$$\n",
    "q(z\\neq 0 | \\phi) = 1 - Q(s \\leq 0 | \\phi)\n",
    "$$\n",
    "Then we can reformulate the previous equation as\n",
    "$$\n",
    "\\mathcal{R}(\\tilde{\\theta}, \\phi) = \\mathbb{E}_{q(s|\\phi)} [\\frac{1}{N} ( \\sum^N_{i=1} \\mathcal{L}(h(x_i; \\tilde{\\theta} \\otimes g(s)), y_i)] + \\lambda \\sum^{|\\theta|}_{j=1} (1 - Q(s_j \\leq 0 | \\phi_j)) \\\\\n",
    "\\quad \\textrm{with} \\quad \n",
    "\\theta^*, \\phi^* = arg \\min_{\\tilde{\\theta}, \\phi} \\{\\mathcal{R}(\\tilde{\\theta}, \\phi)\\},\n",
    "\\quad \n",
    "g(\\cdot) = min(1, max(0, \\cdot))\n",
    "$$\n",
    "However, it is still necessary to define the distribution for $s$.\n",
    "Here it is suggested to use a hard concrete distribution."
   ]
  },
  {
   "cell_type": "markdown",
   "metadata": {},
   "source": [
    "### The hard concrete distribution\n",
    "\n",
    "Lets assume that $s$ is a random variable distributed in the (0, 1) interval with probability density $q_s(s|\\phi)$ and cdf $Q_s(s|\\phi)$.\n",
    "The parameters of the distribution are $\\phi = (\\log \\alpha, \\beta)$, where $\\log\\alpha$ is the mean and $\\beta$ the temperature (???).\n",
    "We can then stretch this distribution to the $(\\gamma, \\delta$) interval with $\\gamma < 0$ and $\\delta > 1$:\n",
    "$$\n",
    "u\\sim U(0, 1), \n",
    "\\quad\n",
    "s = Sigmoid((\\log u - \\log(1 - u) + \\log\\alpha) / \\beta), \\quad\n",
    "\\bar{s} = s(\\delta - \\gamma) + \\gamma, \\quad\n",
    "z = \\min(1, \\max(0, \\bar{s})\n",
    "$$\n",
    "\n",
    "Since these formulas are a bit difficult to visualize I have plotted them below to gain a better understanding of that they are doing and how these functions behave."
   ]
  },
  {
   "cell_type": "code",
   "execution_count": 19,
   "metadata": {
    "editable": false
   },
   "outputs": [],
   "source": [
    "def hard_sigmoid(x):\n",
    "    return np.min([1, np.max([0, x])])\n",
    "\n",
    "def sigmoid(x):\n",
    "    return 1 / (1 + np.exp(-x))\n",
    "\n",
    "def hard_concrete_dist(loc, temp, gamma, zeta):\n",
    "    u = np.random.random()\n",
    "    s = sigmoid((np.log(u) - np.log(1 - u) + np.log(loc)) / temp)\n",
    "    shat = s*(zeta - gamma) + gamma\n",
    "    return hard_sigmoid(shat)\n",
    "\n",
    "def plot_hard_concreate(loc, temp, gamma, zeta, num=10000, bins=100, **kwargs):\n",
    "    plt.hist([hard_concrete_dist(loc, temp, gamma, zeta) for _ in range(num)], bins=bins, density=True, **kwargs)"
   ]
  },
  {
   "cell_type": "code",
   "execution_count": 20,
   "metadata": {
    "editable": false
   },
   "outputs": [],
   "source": [
    "x = np.arange(-6, 6, 0.1)\n",
    "y1 = sigmoid(x)\n",
    "y2 = [hard_sigmoid(k) for k in x]"
   ]
  },
  {
   "cell_type": "code",
   "execution_count": 25,
   "metadata": {
    "editable": false
   },
   "outputs": [
    {
     "data": {
      "image/png": "[encoded data removed]",
      "text/plain": [
       "<matplotlib.figure.Figure at 0x7f7bb575e5f8>"
      ]
     },
     "metadata": {},
     "output_type": "display_data"
    }
   ],
   "source": [
    "fig, axs = plt.subplots(1, 2)\n",
    "fig.set_size_inches((10, 3))\n",
    "axs[0].set_title('Comparision of Sigmoids')\n",
    "axs[1].set_title('Hard Concreate Distribution')\n",
    "\n",
    "axs[0].plot(x, y1, label='Sigmoid')\n",
    "axs[0].plot(x, y2, label='Hard-Sigmoid')\n",
    "handles, labels = axs[0].get_legend_handles_labels()\n",
    "axs[0].legend(handles, labels)\n",
    "values = [hard_concrete_dist(loc=1, temp=0.5, gamma=-0.1, zeta=1.1) for _ in range(1000)]\n",
    "n, bins, patches = axs[1].hist(values, bins=100, density=True)\n",
    "#fig.show()"
   ]
  },
  {
   "cell_type": "markdown",
   "metadata": {},
   "source": [
    "# Implementation of the $L_0$ norm\n",
    "\n",
    "The next step is to implement the theory into practice.\n",
    "I will therefore make use of Google's tensorflow to implement the $L_0$ norm.\n",
    "Here its good to know that this has been implemented before in PyTorch.\n",
    "I will compare my and their implementation to assure I have done it correctly.\n",
    "The reason why I am not directly using PyTorch is that I don't want to learn yet again another library.\n",
    "Furthermore, implementing $L_0$ into tensorflow gives me hopefully a better understanding of the library itself as well as the $L_0$ norm.\n",
    "In addition, tensorflow can compute the derivatives for me, so I don't have to take care of this.\n",
    "\n",
    "The data I am going to use was simulated by Tim.\n",
    "This includes non-linear effects, binary and continous phenotypes.\n",
    "I will first compute only penalized linear models (that is $L_0$ to $L_2$ norm) with tensorflow and validate the results (of $L_1$ and $L_2$ with already implemented libraries (sklearn).\n",
    "The main objective is to improve prediction accuracy."
   ]
  },
  {
   "cell_type": "code",
   "execution_count": 32,
   "metadata": {},
   "outputs": [],
   "source": [
    "import tensorflow as tf\n",
    "from sklearn.model_selection import train_test_split\n",
    "from pyplink import PyPlink\n",
    "import sys\n",
    "import os"
   ]
  },
  {
   "cell_type": "code",
   "execution_count": 28,
   "metadata": {},
   "outputs": [],
   "source": [
    "DATAFOLDER = os.path.realpath(filename='../data')\n",
    "PLINKDATA = '1kgb'\n",
    "FILEPATH = os.path.join(DATAFOLDER, PLINKDATA)\n",
    "\n",
    "def count_lines(filepath, header=False):\n",
    "    \"\"\"Count the number of rows in a file\"\"\"\n",
    "    with open(filepath, 'r') as f:\n",
    "        count = sum(1 for line in f)\n",
    "    if header:\n",
    "        count -= 1\n",
    "    return count\n",
    "\n",
    "print('Number of subjects:', count_lines(os.path.join(FILEPATH, '.fam'), True))\n",
    "print('Number of SNPs:', count_lines(os.path.join(FILEPATH, '.bim'), False))"
   ]
  },
  {
   "cell_type": "code",
   "execution_count": 29,
   "metadata": {},
   "outputs": [],
   "source": [
    "def get_matrix(pfile, max_block):\n",
    "    \"\"\"Extract a genotype matrix from plink file.\"\"\"\n",
    "    with PyPlink(pfile) as bed:\n",
    "        bim = bed.get_bim()\n",
    "        fam = bed.get_fam()\n",
    "        n = fam.shape[0]\n",
    "        p = bim.shape[0]\n",
    "        assert(max_block <= p)\n",
    "        genotypemat = np.zeros((n, max_block), dtype=np.int64)\n",
    "        u = 0\n",
    "        for loci_name, genotypes in bed:\n",
    "            genotypemat[:, u] = np.array(genotypes)\n",
    "            u += 1\n",
    "            if u >= max_block:\n",
    "                break\n",
    "        return genotypemat"
   ]
  },
  {
   "cell_type": "code",
   "execution_count": 30,
   "metadata": {},
   "outputs": [],
   "source": [
    "# define size of training, validation and testing data\n",
    "sample_fractions = (0.8, 0.15, 0.05)\n",
    "assert sum(sample_fractions) == 1.0\n",
    "training_size, validation_size, testing_size = sample_fractions\n",
    "data_training, data_testing, label_training, label_testing = train_test_split(pheno, genotypemat, train_size=training_size)\n",
    "data_validataion, data_testing, label_validation, label_testing = train_test_split(data_testing, label_testing, train_size=2/3)\n",
    "print(\"Samples in training:\", len(label_training))\n",
    "print(\"Samples in validation:\", len(label_validation))\n",
    "print(\"Samples in testing:\", len(label_testing))"
   ]
  },
  {
   "cell_type": "code",
   "execution_count": null,
   "metadata": {},
   "outputs": [],
   "source": []
  }
 ],
 "metadata": {
  "kernelspec": {
   "display_name": "Python 3",
   "language": "python",
   "name": "python3"
  },
  "language_info": {
   "codemirror_mode": {
    "name": "ipython",
    "version": 3
   },
   "file_extension": ".py",
   "mimetype": "text/x-python",
   "name": "python",
   "nbconvert_exporter": "python",
   "pygments_lexer": "ipython3",
   "version": "3.6.5"
  },
  "toc": {
   "colors": {
    "hover_highlight": "#DAA520",
    "navigate_num": "#000000",
    "navigate_text": "#333333",
    "running_highlight": "#FF0000",
    "selected_highlight": "#FFD700",
    "sidebar_border": "#EEEEEE",
    "wrapper_background": "#FFFFFF"
   },
   "moveMenuLeft": true,
   "nav_menu": {
    "height": "12px",
    "width": "252px"
   },
   "navigate_menu": true,
   "number_sections": true,
   "sideBar": true,
   "threshold": 4,
   "toc_cell": false,
   "toc_section_display": "block",
   "toc_window_display": false,
   "widenNotebook": false
  }
 },
 "nbformat": 4,
 "nbformat_minor": 2
}
