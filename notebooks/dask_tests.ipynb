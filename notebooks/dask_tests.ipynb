{
 "cells": [
  {
   "cell_type": "code",
   "execution_count": 1,
   "metadata": {},
   "outputs": [],
   "source": [
    "from dask.distributed import Client, LocalCluster\n",
    "from dask import delayed\n",
    "import dask\n",
    "from wepredict.pytorch_regression import pytorch_linear\n",
    "from wepredict.plink_reader import Genetic_data_read, get_genotypes\n",
    "from wepredict.helpers import *"
   ]
  },
  {
   "cell_type": "code",
   "execution_count": 2,
   "metadata": {},
   "outputs": [],
   "source": [
    "plink_file = '../data/chr10'\n",
    "pheno_file = '../data/sim_1000G_chr10.txt'\n",
    "ld_block_file = '../data/Berisa.EUR.hg19.bed'\n",
    "data = Genetic_data_read(plink_file, ld_block_file, pheno_file)\n",
    "train_index, valid_index, test_index = generate_valid_test_data(data.n, 0.1, 0.1)"
   ]
  },
  {
   "cell_type": "code",
   "execution_count": 19,
   "metadata": {},
   "outputs": [],
   "source": [
    "cluster = LocalCluster(processes=False)\n",
    "client = Client(cluster)"
   ]
  },
  {
   "cell_type": "code",
   "execution_count": 20,
   "metadata": {},
   "outputs": [
    {
     "data": {
      "text/html": [
       "<table style=\"border: 2px solid white;\">\n",
       "<tr>\n",
       "<td style=\"vertical-align: top; border: 0px solid white\">\n",
       "<h3>Client</h3>\n",
       "<ul>\n",
       "  <li><b>Scheduler: </b>inproc://147.8.195.185/16140/1\n",
       "  <li><b>Dashboard: </b><a href='http://localhost:32898/status' target='_blank'>http://localhost:32898/status</a>\n",
       "</ul>\n",
       "</td>\n",
       "<td style=\"vertical-align: top; border: 0px solid white\">\n",
       "<h3>Cluster</h3>\n",
       "<ul>\n",
       "  <li><b>Workers: </b>1</li>\n",
       "  <li><b>Cores: </b>8</li>\n",
       "  <li><b>Memory: </b>16.61 GB</li>\n",
       "</ul>\n",
       "</td>\n",
       "</tr>\n",
       "</table>"
      ],
      "text/plain": [
       "<Client: scheduler='inproc://147.8.195.185/16140/1' processes=1 cores=8>"
      ]
     },
     "execution_count": 20,
     "metadata": {},
     "output_type": "execute_result"
    }
   ],
   "source": [
    "client"
   ]
  },
  {
   "cell_type": "code",
   "execution_count": 21,
   "metadata": {},
   "outputs": [],
   "source": [
    "cluster.scale(2)"
   ]
  },
  {
   "cell_type": "code",
   "execution_count": null,
   "metadata": {},
   "outputs": [],
   "source": [
    "out = list()\n",
    "for ld_block in data.groups[10]:\n",
    "    mat = delayed(get_genotypes)(22, ld_block, plink_file, data.sub_in)\n",
    "    sample = delayed(get_samples)(mat, data.pheno['V1'].values,\n",
    "                                  train_index, valid_index)\n",
    "    del mat\n",
    "    model = delayed(pytorch_linear)(sample['training_x'],\n",
    "                                    sample['training_y'],\n",
    "                                    sample['valid_x'],\n",
    "                                    sample['valid_y'],\n",
    "                                    mini_batch_size=100, type='c')\n",
    "    results = delayed(model.run)('l1', lamb=0.01, epochs=100)\n",
    "    out.append(results)"
   ]
  },
  {
   "cell_type": "code",
   "execution_count": null,
   "metadata": {},
   "outputs": [
    {
     "name": "stderr",
     "output_type": "stream",
     "text": [
      "distributed.comm.inproc - WARNING - Closing dangling queue in <InProc local=inproc://147.8.195.185/16140/10 remote=inproc://147.8.195.185/16140/1>\n",
      "distributed.comm.inproc - WARNING - Closing dangling queue in <InProc local=inproc://147.8.195.185/16140/11 remote=inproc://147.8.195.185/16140/1>\n"
     ]
    }
   ],
   "source": [
    "res = dask.compute(out)"
   ]
  },
  {
   "cell_type": "code",
   "execution_count": null,
   "metadata": {},
   "outputs": [],
   "source": []
  }
 ],
 "metadata": {
  "kernelspec": {
   "display_name": "Python 3",
   "language": "python",
   "name": "python3"
  },
  "language_info": {
   "codemirror_mode": {
    "name": "ipython",
    "version": 3
   },
   "file_extension": ".py",
   "mimetype": "text/x-python",
   "name": "python",
   "nbconvert_exporter": "python",
   "pygments_lexer": "ipython3",
   "version": "3.6.5"
  },
  "toc": {
   "colors": {
    "hover_highlight": "#DAA520",
    "navigate_num": "#000000",
    "navigate_text": "#333333",
    "running_highlight": "#FF0000",
    "selected_highlight": "#FFD700",
    "sidebar_border": "#EEEEEE",
    "wrapper_background": "#FFFFFF"
   },
   "moveMenuLeft": true,
   "nav_menu": {
    "height": "12px",
    "width": "252px"
   },
   "navigate_menu": true,
   "number_sections": true,
   "sideBar": true,
   "threshold": 4,
   "toc_cell": false,
   "toc_section_display": "block",
   "toc_window_display": false,
   "widenNotebook": false
  }
 },
 "nbformat": 4,
 "nbformat_minor": 2
}
