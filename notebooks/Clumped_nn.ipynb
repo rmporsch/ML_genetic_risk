{
 "cells": [
  {
   "cell_type": "code",
   "execution_count": 1,
   "metadata": {},
   "outputs": [],
   "source": [
    "from matplotlib import pyplot as plt\n",
    "import pandas as pd\n",
    "import numpy as np\n",
    "from pyplink import PyPlink\n",
    "import pickle\n",
    "%matplotlib inline"
   ]
  },
  {
   "cell_type": "code",
   "execution_count": 2,
   "metadata": {},
   "outputs": [],
   "source": [
    "plink_f = '../data/sim_1000G_chr10'\n",
    "pheno_f = '../data/sim_1000G_chr10.txt'"
   ]
  },
  {
   "cell_type": "code",
   "execution_count": 3,
   "metadata": {},
   "outputs": [
    {
     "name": "stdout",
     "output_type": "stream",
     "text": [
      "   FID      IID  PAT  MAT  SEX  V6        V1        V2        V3        V4\n",
      "0    0  HG00096    0    0    0  -9  1.391821  1.138268  2.070238 -0.372672\n",
      "1    0  HG00097    0    0    0  -9 -1.187275  2.092036  0.692091  0.048933\n",
      "2    0  HG00099    0    0    0  -9  0.133182  0.638893 -0.529870 -1.335510\n",
      "3    0  HG00100    0    0    0  -9 -1.170558  1.796703  1.220772 -1.487219\n",
      "4    0  HG00101    0    0    0  -9  1.556918  1.210081 -1.837264 -0.456114\n",
      "Number of subjects: 2504\n"
     ]
    },
    {
     "data": {
      "text/plain": [
       "(['data/sample_major_1kg/sample_major_14.npy',\n",
       "  'data/sample_major_1kg/sample_major_6.npy',\n",
       "  'data/sample_major_1kg/sample_major_20.npy',\n",
       "  'data/sample_major_1kg/sample_major_4.npy',\n",
       "  'data/sample_major_1kg/sample_major_13.npy',\n",
       "  'data/sample_major_1kg/sample_major_12.npy',\n",
       "  'data/sample_major_1kg/sample_major_21.npy',\n",
       "  'data/sample_major_1kg/sample_major_0.npy',\n",
       "  'data/sample_major_1kg/sample_major_7.npy',\n",
       "  'data/sample_major_1kg/sample_major_15.npy',\n",
       "  'data/sample_major_1kg/sample_major_5.npy',\n",
       "  'data/sample_major_1kg/sample_major_17.npy',\n",
       "  'data/sample_major_1kg/sample_major_24.npy',\n",
       "  'data/sample_major_1kg/sample_major_1.npy',\n",
       "  'data/sample_major_1kg/sample_major_23.npy',\n",
       "  'data/sample_major_1kg/sample_major_3.npy',\n",
       "  'data/sample_major_1kg/sample_major_11.npy',\n",
       "  'data/sample_major_1kg/sample_major_2.npy',\n",
       "  'data/sample_major_1kg/sample_major_16.npy',\n",
       "  'data/sample_major_1kg/sample_major_9.npy'],\n",
       " ['data/sample_major_1kg/sample_major_19.npy',\n",
       "  'data/sample_major_1kg/sample_major_8.npy',\n",
       "  'data/sample_major_1kg/sample_major_22.npy',\n",
       "  'data/sample_major_1kg/sample_major_10.npy',\n",
       "  'data/sample_major_1kg/sample_major_18.npy'],\n",
       " [])"
      ]
     },
     "execution_count": 3,
     "metadata": {},
     "output_type": "execute_result"
    }
   ],
   "source": [
    "pheno = pd.read_table(pheno_f)\n",
    "print(pheno.head())\n",
    "n_subjects = pheno.shape[0]\n",
    "sub_id = pheno.IID.values\n",
    "print('Number of subjects:', n_subjects)\n",
    "inlucde = np.zeros((n_subjects, 1), dtype=bool)\n",
    "train_dev = pickle.load(open('../training_testingdivition.pickle', 'rb'))\n",
    "train_dev"
   ]
  },
  {
   "cell_type": "code",
   "execution_count": 4,
   "metadata": {},
   "outputs": [],
   "source": [
    "train = train_dev[0]\n",
    "include = list()\n",
    "for t in train:\n",
    "    dat = np.load('../'+t)\n",
    "    include.append(sub_id[dat[1]])"
   ]
  },
  {
   "cell_type": "code",
   "execution_count": 5,
   "metadata": {},
   "outputs": [],
   "source": [
    "subjects_train = np.array(include).flatten()"
   ]
  },
  {
   "cell_type": "code",
   "execution_count": 6,
   "metadata": {},
   "outputs": [
    {
     "name": "stdout",
     "output_type": "stream",
     "text": [
      "   fid      iid\n",
      "0    0  HG03705\n",
      "1    0  HG03706\n",
      "2    0  HG03708\n",
      "3    0  HG03709\n",
      "4    0  HG03711\n"
     ]
    }
   ],
   "source": [
    "to_file = pd.DataFrame({'fid': np.zeros(len(subjects_train), dtype=int), 'iid': subjects_train})\n",
    "print(to_file.head())\n",
    "to_file.to_csv('training.fam', header=False, index=False, sep=' ')"
   ]
  },
  {
   "cell_type": "code",
   "execution_count": 57,
   "metadata": {},
   "outputs": [
    {
     "name": "stdout",
     "output_type": "stream",
     "text": [
      "PLINK v1.90b6.4 64-bit (7 Aug 2018)            www.cog-genomics.org/plink/1.9/\n",
      "(C) 2005-2018 Shaun Purcell, Christopher Chang   GNU General Public License v3\n",
      "Logging to 1kg.log.\n",
      "Options in effect:\n",
      "  --allow-no-sex\n",
      "  --bfile ../data/sim_1000G_chr10\n",
      "  --keep training.fam\n",
      "  --linear hide-covar\n",
      "  --out 1kg\n",
      "  --pheno ../data/sim_1000G_chr10.txt\n",
      "  --pheno-name V1\n",
      "\n",
      "15844 MB RAM detected; reserving 7922 MB for main workspace.\n",
      "405378 variants loaded from .bim file.\n",
      "2504 people (0 males, 0 females, 2504 ambiguous) loaded from .fam.\n",
      "Ambiguous sex IDs written to 1kg.nosex .\n",
      "2504 phenotype values present after --pheno.\n",
      "--keep: 2000 people remaining.\n",
      "Using 1 thread (no multithreaded calculations invoked).\n",
      "Before main variant filters, 2000 founders and 0 nonfounders present.\n",
      "Calculating allele frequencies... 0%\b\b1%\b\b2%\b\b3%\b\b4%\b\b5%\b\b6%\b\b7%\b\b8%\b\b9%\b\b10%\b\b\b11%\b\b\b12%\b\b\b13%\b\b\b14%\b\b\b15%\b\b\b16%\b\b\b17%\b\b\b18%\b\b\b19%\b\b\b20%\b\b\b21%\b\b\b22%\b\b\b23%\b\b\b24%\b\b\b25%\b\b\b26%\b\b\b27%\b\b\b28%\b\b\b29%\b\b\b30%\b\b\b31%\b\b\b32%\b\b\b33%\b\b\b34%\b\b\b35%\b\b\b36%\b\b\b37%\b\b\b38%\b\b\b39%\b\b\b40%\b\b\b41%\b\b\b42%\b\b\b43%\b\b\b44%\b\b\b45%\b\b\b46%\b\b\b47%\b\b\b48%\b\b\b49%\b\b\b50%\b\b\b51%\b\b\b52%\b\b\b53%\b\b\b54%\b\b\b55%\b\b\b56%\b\b\b57%\b\b\b58%\b\b\b59%\b\b\b60%\b\b\b61%\b\b\b62%\b\b\b63%\b\b\b64%\b\b\b65%\b\b\b66%\b\b\b67%\b\b\b68%\b\b\b69%\b\b\b70%\b\b\b71%\b\b\b72%\b\b\b73%\b\b\b74%\b\b\b75%\b\b\b76%\b\b\b77%\b\b\b78%\b\b\b79%\b\b\b80%\b\b\b81%\b\b\b82%\b\b\b83%\b\b\b84%\b\b\b85%\b\b\b86%\b\b\b87%\b\b\b88%\b\b\b89%\b\b\b90%\b\b\b91%\b\b\b92%\b\b\b93%\b\b\b94%\b\b\b95%\b\b\b96%\b\b\b97%\b\b\b98%\b\b\b99%\b\b\b\b done.\n",
      "405378 variants and 2000 people pass filters and QC.\n",
      "Phenotype data is quantitative.\n",
      "Writing linear model association results to 1kg.assoc.linear ... 0%\b\b1%\b\b2%\b\b3%\b\b4%\b\b5%\b\b6%\b\b7%\b\b8%\b\b9%\b\b10%\b\b\b11%\b\b\b12%\b\b\b13%\b\b\b14%\b\b\b15%\b\b\b16%\b\b\b17%\b\b\b18%\b\b\b19%\b\b\b20%\b\b\b21%\b\b\b22%\b\b\b23%\b\b\b24%\b\b\b25%\b\b\b26%\b\b\b27%\b\b\b28%\b\b\b29%\b\b\b30%\b\b\b31%\b\b\b32%\b\b\b33%\b\b\b34%\b\b\b35%\b\b\b36%\b\b\b37%\b\b\b38%\b\b\b39%\b\b\b40%\b\b\b41%\b\b\b42%\b\b\b43%\b\b\b44%\b\b\b45%\b\b\b46%\b\b\b47%\b\b\b48%\b\b\b49%\b\b\b50%\b\b\b51%\b\b\b52%\b\b\b53%\b\b\b54%\b\b\b55%\b\b\b56%\b\b\b57%\b\b\b58%\b\b\b59%\b\b\b60%\b\b\b61%\b\b\b62%\b\b\b63%\b\b\b64%\b\b\b65%\b\b\b66%\b\b\b67%\b\b\b68%\b\b\b69%\b\b\b70%\b\b\b71%\b\b\b72%\b\b\b73%\b\b\b74%\b\b\b75%\b\b\b76%\b\b\b77%\b\b\b78%\b\b\b79%\b\b\b80%\b\b\b81%\b\b\b82%\b\b\b83%\b\b\b84%\b\b\b85%\b\b\b86%\b\b\b87%\b\b\b88%\b\b\b89%\b\b\b90%\b\b\b91%\b\b\b92%\b\b\b93%\b\b\b94%\b\b\b95%\b\b\b96%\b\b\b96%\b\b\b97%\b\b\b98%\b\b\b99%\b\b\bdone.\n",
      "PLINK v1.90b6.4 64-bit (7 Aug 2018)            www.cog-genomics.org/plink/1.9/\n",
      "(C) 2005-2018 Shaun Purcell, Christopher Chang   GNU General Public License v3\n",
      "Logging to 1kgV1.log.\n",
      "Options in effect:\n",
      "  --bfile ../data/sim_1000G_chr10\n",
      "  --clump 1kg.assoc.linear\n",
      "  --clump-p1 0.001\n",
      "  --clump-p2 0.01\n",
      "  --clump-r2 0.2\n",
      "  --out 1kgV1\n",
      "\n",
      "15844 MB RAM detected; reserving 7922 MB for main workspace.\n",
      "405378 variants loaded from .bim file.\n",
      "2504 people (0 males, 0 females, 2504 ambiguous) loaded from .fam.\n",
      "Ambiguous sex IDs written to 1kgV1.nosex .\n",
      "Using 1 thread (no multithreaded calculations invoked).\n",
      "Before main variant filters, 2504 founders and 0 nonfounders present.\n",
      "Calculating allele frequencies... 0%\b\b1%\b\b2%\b\b3%\b\b4%\b\b5%\b\b6%\b\b7%\b\b8%\b\b9%\b\b10%\b\b\b11%\b\b\b12%\b\b\b13%\b\b\b14%\b\b\b15%\b\b\b16%\b\b\b17%\b\b\b18%\b\b\b19%\b\b\b20%\b\b\b21%\b\b\b22%\b\b\b23%\b\b\b24%\b\b\b25%\b\b\b26%\b\b\b27%\b\b\b28%\b\b\b29%\b\b\b30%\b\b\b31%\b\b\b32%\b\b\b33%\b\b\b34%\b\b\b35%\b\b\b36%\b\b\b37%\b\b\b38%\b\b\b39%\b\b\b40%\b\b\b41%\b\b\b42%\b\b\b43%\b\b\b44%\b\b\b45%\b\b\b46%\b\b\b47%\b\b\b48%\b\b\b49%\b\b\b50%\b\b\b51%\b\b\b52%\b\b\b53%\b\b\b54%\b\b\b55%\b\b\b56%\b\b\b57%\b\b\b58%\b\b\b59%\b\b\b60%\b\b\b61%\b\b\b62%\b\b\b63%\b\b\b64%\b\b\b65%\b\b\b66%\b\b\b67%\b\b\b68%\b\b\b69%\b\b\b70%\b\b\b71%\b\b\b72%\b\b\b73%\b\b\b74%\b\b\b75%\b\b\b76%\b\b\b77%\b\b\b78%\b\b\b79%\b\b\b80%\b\b\b81%\b\b\b82%\b\b\b83%\b\b\b84%\b\b\b85%\b\b\b86%\b\b\b87%\b\b\b88%\b\b\b89%\b\b\b90%\b\b\b91%\b\b\b92%\b\b\b93%\b\b\b94%\b\b\b95%\b\b\b96%\b\b\b97%\b\b\b98%\b\b\b99%\b\b\b\b done.\n",
      "405378 variants and 2504 people pass filters and QC.\n",
      "Note: No phenotypes present.\n",
      "--clump: 74 clumps formed from 295 top variants.\n",
      "Results written to 1kgV1.clumped .\n"
     ]
    }
   ],
   "source": [
    "%%bash\n",
    "plink='../wepredict/bin/plink'\n",
    "f='../data/sim_1000G_chr10'\n",
    "pheno='../data/sim_1000G_chr10.txt'\n",
    "training='training.fam'\n",
    "\n",
    "#GWAS\n",
    "$plink --bfile $f \\\n",
    "--keep $training \\\n",
    "--pheno $pheno \\\n",
    "--pheno-name V1 \\\n",
    "--allow-no-sex \\\n",
    "--linear hide-covar \\\n",
    "--out 1kg\n",
    "\n",
    "# clumping\n",
    "$plink --bfile $f \\\n",
    "--clump 1kg.assoc.linear \\\n",
    "--clump-p1 0.001 \\\n",
    "--clump-p2 0.01 \\\n",
    "--clump-r2 0.2 \\\n",
    "--out 1kgV1"
   ]
  },
  {
   "cell_type": "code",
   "execution_count": 7,
   "metadata": {},
   "outputs": [
    {
     "name": "stderr",
     "output_type": "stream",
     "text": [
      "/home/robert/software/anaconda3/lib/python3.6/site-packages/ipykernel_launcher.py:1: ParserWarning: Falling back to the 'python' engine because the 'c' engine does not support regex separators (separators > 1 char and different from '\\s+' are interpreted as regex); you can avoid this warning by specifying engine='python'.\n",
      "  \"\"\"Entry point for launching an IPython kernel.\n",
      "/home/robert/software/anaconda3/lib/python3.6/site-packages/pandas/io/parsers.py:2230: FutureWarning: split() requires a non-empty pattern match.\n",
      "  yield pat.split(line.strip())\n",
      "/home/robert/software/anaconda3/lib/python3.6/site-packages/pandas/io/parsers.py:2232: FutureWarning: split() requires a non-empty pattern match.\n",
      "  yield pat.split(line.strip())\n"
     ]
    }
   ],
   "source": [
    "clumped = pd.read_table('1kgV1.clumped', sep=r'\\s*')"
   ]
  },
  {
   "cell_type": "code",
   "execution_count": 8,
   "metadata": {},
   "outputs": [
    {
     "data": {
      "text/html": [
       "<div>\n",
       "<style scoped>\n",
       "    .dataframe tbody tr th:only-of-type {\n",
       "        vertical-align: middle;\n",
       "    }\n",
       "\n",
       "    .dataframe tbody tr th {\n",
       "        vertical-align: top;\n",
       "    }\n",
       "\n",
       "    .dataframe thead th {\n",
       "        text-align: right;\n",
       "    }\n",
       "</style>\n",
       "<table border=\"1\" class=\"dataframe\">\n",
       "  <thead>\n",
       "    <tr style=\"text-align: right;\">\n",
       "      <th></th>\n",
       "      <th>CHR</th>\n",
       "      <th>F</th>\n",
       "      <th>SNP</th>\n",
       "      <th>BP</th>\n",
       "      <th>P</th>\n",
       "      <th>TOTAL</th>\n",
       "      <th>NSIG</th>\n",
       "      <th>S05</th>\n",
       "      <th>S01</th>\n",
       "      <th>S001</th>\n",
       "      <th>S0001</th>\n",
       "      <th>SP2</th>\n",
       "    </tr>\n",
       "  </thead>\n",
       "  <tbody>\n",
       "    <tr>\n",
       "      <th>0</th>\n",
       "      <td>10</td>\n",
       "      <td>1</td>\n",
       "      <td>10:44113870:A:G</td>\n",
       "      <td>44113870</td>\n",
       "      <td>0.000022</td>\n",
       "      <td>2</td>\n",
       "      <td>0</td>\n",
       "      <td>0</td>\n",
       "      <td>0</td>\n",
       "      <td>1</td>\n",
       "      <td>1</td>\n",
       "      <td>10:44103616:T:C(1),10:44110144:C:T(1)</td>\n",
       "    </tr>\n",
       "    <tr>\n",
       "      <th>1</th>\n",
       "      <td>10</td>\n",
       "      <td>1</td>\n",
       "      <td>10:106009034:C:A</td>\n",
       "      <td>106009034</td>\n",
       "      <td>0.000026</td>\n",
       "      <td>8</td>\n",
       "      <td>0</td>\n",
       "      <td>0</td>\n",
       "      <td>1</td>\n",
       "      <td>3</td>\n",
       "      <td>4</td>\n",
       "      <td>10:106004999:G:A(1),10:106005280:T:C(1),10:106...</td>\n",
       "    </tr>\n",
       "    <tr>\n",
       "      <th>2</th>\n",
       "      <td>10</td>\n",
       "      <td>1</td>\n",
       "      <td>10:65824079:T:C</td>\n",
       "      <td>65824079</td>\n",
       "      <td>0.000031</td>\n",
       "      <td>124</td>\n",
       "      <td>70</td>\n",
       "      <td>36</td>\n",
       "      <td>17</td>\n",
       "      <td>1</td>\n",
       "      <td>0</td>\n",
       "      <td>10:65795326:A:G(1),10:65803263:C:T(1),10:65806...</td>\n",
       "    </tr>\n",
       "    <tr>\n",
       "      <th>3</th>\n",
       "      <td>10</td>\n",
       "      <td>1</td>\n",
       "      <td>10:29298712:C:CAGAG</td>\n",
       "      <td>29298712</td>\n",
       "      <td>0.000033</td>\n",
       "      <td>26</td>\n",
       "      <td>0</td>\n",
       "      <td>3</td>\n",
       "      <td>5</td>\n",
       "      <td>18</td>\n",
       "      <td>0</td>\n",
       "      <td>10:29278676:C:T(1),10:29278710:C:G(1),10:29282...</td>\n",
       "    </tr>\n",
       "    <tr>\n",
       "      <th>4</th>\n",
       "      <td>10</td>\n",
       "      <td>1</td>\n",
       "      <td>10:134974187:A:T</td>\n",
       "      <td>134974187</td>\n",
       "      <td>0.000045</td>\n",
       "      <td>100</td>\n",
       "      <td>39</td>\n",
       "      <td>23</td>\n",
       "      <td>21</td>\n",
       "      <td>16</td>\n",
       "      <td>1</td>\n",
       "      <td>10:134942166:A:G(1),10:134952693:T:G(1),10:134...</td>\n",
       "    </tr>\n",
       "  </tbody>\n",
       "</table>\n",
       "</div>"
      ],
      "text/plain": [
       "   CHR  F                  SNP         BP         P  TOTAL  NSIG  S05  S01  \\\n",
       "0   10  1      10:44113870:A:G   44113870  0.000022      2     0    0    0   \n",
       "1   10  1     10:106009034:C:A  106009034  0.000026      8     0    0    1   \n",
       "2   10  1      10:65824079:T:C   65824079  0.000031    124    70   36   17   \n",
       "3   10  1  10:29298712:C:CAGAG   29298712  0.000033     26     0    3    5   \n",
       "4   10  1     10:134974187:A:T  134974187  0.000045    100    39   23   21   \n",
       "\n",
       "   S001  S0001                                                SP2  \n",
       "0     1      1              10:44103616:T:C(1),10:44110144:C:T(1)  \n",
       "1     3      4  10:106004999:G:A(1),10:106005280:T:C(1),10:106...  \n",
       "2     1      0  10:65795326:A:G(1),10:65803263:C:T(1),10:65806...  \n",
       "3    18      0  10:29278676:C:T(1),10:29278710:C:G(1),10:29282...  \n",
       "4    16      1  10:134942166:A:G(1),10:134952693:T:G(1),10:134...  "
      ]
     },
     "execution_count": 8,
     "metadata": {},
     "output_type": "execute_result"
    }
   ],
   "source": [
    "clumped.head()"
   ]
  },
  {
   "cell_type": "code",
   "execution_count": 9,
   "metadata": {},
   "outputs": [],
   "source": [
    "clumped_snps = clumped.SNP.values"
   ]
  },
  {
   "cell_type": "code",
   "execution_count": 10,
   "metadata": {},
   "outputs": [],
   "source": [
    "def load_genotypes(plink: str, snps: list, subjects: list):\n",
    "    reader = PyPlink(plink)\n",
    "    n = sum(subjects)\n",
    "    p = len(snps)\n",
    "    genotype_matrix = np.zeros((n, len(snps)))\n",
    "    u = 0\n",
    "    for snp, genotypes in reader.iter_geno_marker(snps):\n",
    "        genotype_matrix[:, u] = genotypes[subjects]\n",
    "        u += 1\n",
    "    return genotype_matrix"
   ]
  },
  {
   "cell_type": "code",
   "execution_count": 11,
   "metadata": {},
   "outputs": [],
   "source": [
    "bool_training = [k in subjects_train for k in sub_id]\n",
    "bool_test = [k not in subjects_train for k in sub_id]"
   ]
  },
  {
   "cell_type": "code",
   "execution_count": 12,
   "metadata": {},
   "outputs": [],
   "source": [
    "X_train = load_genotypes(plink_f, clumped_snps, bool_training)\n",
    "X_valid = load_genotypes(plink_f, clumped_snps, bool_test)\n",
    "Y_train = pheno.V1.values[bool_training]\n",
    "Y_valid = pheno.V1.values[bool_test]"
   ]
  },
  {
   "cell_type": "code",
   "execution_count": 13,
   "metadata": {},
   "outputs": [],
   "source": [
    "from sklearn.linear_model import Lasso, LinearRegression"
   ]
  },
  {
   "cell_type": "code",
   "execution_count": 14,
   "metadata": {},
   "outputs": [],
   "source": [
    "lassoModel = Lasso(normalize=False, copy_X=False, alpha=0.05)"
   ]
  },
  {
   "cell_type": "code",
   "execution_count": 15,
   "metadata": {},
   "outputs": [
    {
     "data": {
      "text/plain": [
       "Lasso(alpha=0.05, copy_X=False, fit_intercept=True, max_iter=1000,\n",
       "   normalize=False, positive=False, precompute=False, random_state=None,\n",
       "   selection='cyclic', tol=0.0001, warm_start=False)"
      ]
     },
     "execution_count": 15,
     "metadata": {},
     "output_type": "execute_result"
    }
   ],
   "source": [
    "lassoModel.fit(X_train, Y_train)"
   ]
  },
  {
   "cell_type": "code",
   "execution_count": 16,
   "metadata": {},
   "outputs": [
    {
     "data": {
      "text/plain": [
       "-0.0017910321826553055"
      ]
     },
     "execution_count": 16,
     "metadata": {},
     "output_type": "execute_result"
    }
   ],
   "source": [
    "lassoModel.score(X_valid, Y_valid)"
   ]
  },
  {
   "cell_type": "code",
   "execution_count": 17,
   "metadata": {},
   "outputs": [
    {
     "data": {
      "text/plain": [
       "0.024752088922696314"
      ]
     },
     "execution_count": 17,
     "metadata": {},
     "output_type": "execute_result"
    }
   ],
   "source": [
    "lassoModel.score(X_train, Y_train)"
   ]
  },
  {
   "cell_type": "code",
   "execution_count": 18,
   "metadata": {},
   "outputs": [
    {
     "data": {
      "text/plain": [
       "array([ 0.        ,  0.        , -0.00364262, -0.02733969,  0.02461121,\n",
       "       -0.        , -0.        , -0.02341318,  0.02020677, -0.01436828,\n",
       "       -0.        ,  0.01983007, -0.01463685, -0.        , -0.        ,\n",
       "       -0.        , -0.        ,  0.0015301 , -0.        ,  0.01099492,\n",
       "        0.01038083,  0.        ,  0.        ,  0.00993607, -0.        ,\n",
       "       -0.        ,  0.        , -0.        , -0.01220388, -0.        ,\n",
       "       -0.        ,  0.00383964,  0.        ,  0.        ,  0.        ,\n",
       "        0.        , -0.        ,  0.        , -0.00486384, -0.        ,\n",
       "       -0.        ,  0.00342201, -0.        ,  0.        ,  0.        ,\n",
       "       -0.00809595, -0.        ,  0.        ,  0.        ,  0.        ,\n",
       "        0.        ,  0.00568296, -0.        ,  0.        ,  0.        ,\n",
       "        0.        ,  0.        ,  0.        , -0.        , -0.        ,\n",
       "       -0.        , -0.        ,  0.        , -0.        ,  0.00583119,\n",
       "        0.        , -0.        , -0.        , -0.        ,  0.        ,\n",
       "        0.00213071,  0.        , -0.        , -0.        ])"
      ]
     },
     "execution_count": 18,
     "metadata": {},
     "output_type": "execute_result"
    }
   ],
   "source": [
    "lassoModel.coef_"
   ]
  },
  {
   "cell_type": "code",
   "execution_count": 184,
   "metadata": {},
   "outputs": [
    {
     "data": {
      "text/plain": [
       "LinearRegression(copy_X=True, fit_intercept=True, n_jobs=1, normalize=False)"
      ]
     },
     "execution_count": 184,
     "metadata": {},
     "output_type": "execute_result"
    }
   ],
   "source": [
    "linearModel = LinearRegression()\n",
    "linearModel.fit(X_train, Y_train)"
   ]
  },
  {
   "cell_type": "code",
   "execution_count": 185,
   "metadata": {},
   "outputs": [
    {
     "data": {
      "text/plain": [
       "-0.1903891761184464"
      ]
     },
     "execution_count": 185,
     "metadata": {},
     "output_type": "execute_result"
    }
   ],
   "source": [
    "linearModel.score(X_valid, Y_valid)"
   ]
  },
  {
   "cell_type": "code",
   "execution_count": 21,
   "metadata": {},
   "outputs": [
    {
     "data": {
      "image/png": "[encoded data removed]",
      "text/plain": [
       "<matplotlib.figure.Figure at 0x7feccca6ef60>"
      ]
     },
     "metadata": {},
     "output_type": "display_data"
    }
   ],
   "source": [
    "l, h, h = plt.hist(linearModel.coef_, 20)"
   ]
  },
  {
   "cell_type": "code",
   "execution_count": 22,
   "metadata": {},
   "outputs": [
    {
     "name": "stderr",
     "output_type": "stream",
     "text": [
      "/home/robert/software/anaconda3/lib/python3.6/site-packages/h5py/__init__.py:36: FutureWarning: Conversion of the second argument of issubdtype from `float` to `np.floating` is deprecated. In future, it will be treated as `np.float64 == np.dtype(float).type`.\n",
      "  from ._conv import register_converters as _register_converters\n",
      "Using TensorFlow backend.\n"
     ]
    }
   ],
   "source": [
    "from keras.models import Sequential\n",
    "from keras.layers import Dense, Dropout\n",
    "from keras import metrics\n",
    "from keras import regularizers\n",
    "from keras import optimizers"
   ]
  },
  {
   "cell_type": "code",
   "execution_count": 34,
   "metadata": {},
   "outputs": [
    {
     "data": {
      "text/plain": [
       "(2504, 74)"
      ]
     },
     "execution_count": 34,
     "metadata": {},
     "output_type": "execute_result"
    }
   ],
   "source": [
    "Y = pheno.V1.values\n",
    "X = load_genotypes(plink_f, clumped_snps, np.ones(len(Y), dtype=bool))\n",
    "X.shape"
   ]
  },
  {
   "cell_type": "code",
   "execution_count": 116,
   "metadata": {},
   "outputs": [],
   "source": [
    "from keras import backend as K\n",
    "import tensorflow as tf\n",
    "def correlation_coefficient_loss(y_true, y_pred):\n",
    "    x = y_true\n",
    "    y = y_pred\n",
    "    mx = K.mean(x)\n",
    "    my = K.mean(y)\n",
    "    xm, ym = x-mx, y-my\n",
    "    r_num = K.sum(tf.multiply(xm,ym))\n",
    "    r_den = K.sqrt(tf.multiply(K.sum(K.square(xm)), K.sum(K.square(ym))))\n",
    "    r = r_num / r_den\n",
    "\n",
    "    r = K.maximum(K.minimum(r, 1.0), -1.0)\n",
    "    return K.square(r)"
   ]
  },
  {
   "cell_type": "code",
   "execution_count": 172,
   "metadata": {},
   "outputs": [],
   "source": [
    "model = Sequential()"
   ]
  },
  {
   "cell_type": "code",
   "execution_count": 173,
   "metadata": {},
   "outputs": [],
   "source": [
    "model.add(Dense(units=60, activation='relu', input_dim=74, kernel_regularizer=regularizers.l1(0.01)))\n",
    "model.add(Dropout(0.2))\n",
    "model.add(Dense(units=60, activation='relu', kernel_regularizer=regularizers.l1(0.01)))\n",
    "model.add(Dropout(0.2))\n",
    "model.add(Dense(units=1, activation='linear', kernel_regularizer=regularizers.l1(0.01)))"
   ]
  },
  {
   "cell_type": "code",
   "execution_count": 174,
   "metadata": {},
   "outputs": [],
   "source": [
    "opti = optimizers.Adagrad(lr=0.01)\n",
    "model.compile(loss='mse', optimizer=opti, metrics=[correlation_coefficient_loss], )"
   ]
  },
  {
   "cell_type": "code",
   "execution_count": 175,
   "metadata": {},
   "outputs": [],
   "source": [
    "history = model.fit(X, Y, epochs=100, verbose=0, validation_split=0.2, batch_size=200)"
   ]
  },
  {
   "cell_type": "code",
   "execution_count": 189,
   "metadata": {},
   "outputs": [
    {
     "data": {
      "image/png": "[encoded data removed]",
      "text/plain": [
       "<matplotlib.figure.Figure at 0x7fec51c21dd8>"
      ]
     },
     "metadata": {},
     "output_type": "display_data"
    }
   ],
   "source": [
    "# summarize history for accuracy\n",
    "plt.plot(history.history['correlation_coefficient_loss'])\n",
    "plt.plot(history.history['val_correlation_coefficient_loss'])\n",
    "plt.title('model accuracy')\n",
    "plt.ylabel('accuracy')\n",
    "plt.xlabel('epoch')\n",
    "plt.legend(['test', 'train'], loc='upper left')\n",
    "plt.savefig('keras_model.png')\n",
    "plt.show()"
   ]
  },
  {
   "cell_type": "code",
   "execution_count": 145,
   "metadata": {},
   "outputs": [
    {
     "data": {
      "image/png": "[encoded data removed]",
      "text/plain": [
       "<matplotlib.figure.Figure at 0x7fec581a1b00>"
      ]
     },
     "metadata": {},
     "output_type": "display_data"
    }
   ],
   "source": [
    "# summarize history for loss\n",
    "plt.plot(history.history['loss'])\n",
    "plt.plot(history.history['val_loss'])\n",
    "plt.title('model loss')\n",
    "plt.ylabel('loss')\n",
    "plt.xlabel('epoch')\n",
    "plt.legend(['train', 'test'], loc='upper left')\n",
    "plt.show()"
   ]
  },
  {
   "cell_type": "code",
   "execution_count": 186,
   "metadata": {},
   "outputs": [
    {
     "name": "stdout",
     "output_type": "stream",
     "text": [
      "504/504 [==============================] - 1s 1ms/step\n"
     ]
    },
    {
     "data": {
      "text/plain": [
       "[1.4238999306209503, 0.03328426722815955]"
      ]
     },
     "execution_count": 186,
     "metadata": {},
     "output_type": "execute_result"
    }
   ],
   "source": [
    "model.evaluate(X_valid, Y_valid)"
   ]
  },
  {
   "cell_type": "code",
   "execution_count": 187,
   "metadata": {},
   "outputs": [],
   "source": [
    "y_pred = model.predict(X_valid)"
   ]
  },
  {
   "cell_type": "code",
   "execution_count": 188,
   "metadata": {},
   "outputs": [
    {
     "data": {
      "text/plain": [
       "array([[1.        , 0.08212745],\n",
       "       [0.08212745, 1.        ]])"
      ]
     },
     "execution_count": 188,
     "metadata": {},
     "output_type": "execute_result"
    }
   ],
   "source": [
    "np.corrcoef(y_pred.flatten(), Y_valid)"
   ]
  },
  {
   "cell_type": "code",
   "execution_count": 31,
   "metadata": {},
   "outputs": [],
   "source": [
    "from keras.utils import plot_model"
   ]
  },
  {
   "cell_type": "code",
   "execution_count": 181,
   "metadata": {},
   "outputs": [],
   "source": [
    "plot_model(model, to_file='keras_model.png')"
   ]
  },
  {
   "cell_type": "code",
   "execution_count": 182,
   "metadata": {},
   "outputs": [],
   "source": [
    "from IPython.display import Image"
   ]
  },
  {
   "cell_type": "code",
   "execution_count": 183,
   "metadata": {},
   "outputs": [
    {
     "data": {
      "image/png": "[encoded data removed]",
      "text/plain": [
       "<IPython.core.display.Image object>"
      ]
     },
     "execution_count": 183,
     "metadata": {},
     "output_type": "execute_result"
    }
   ],
   "source": [
    "Image('keras_model_strcuture.png')"
   ]
  },
  {
   "cell_type": "code",
   "execution_count": null,
   "metadata": {},
   "outputs": [],
   "source": []
  }
 ],
 "metadata": {
  "kernelspec": {
   "display_name": "Python 3",
   "language": "python",
   "name": "python3"
  },
  "language_info": {
   "codemirror_mode": {
    "name": "ipython",
    "version": 3
   },
   "file_extension": ".py",
   "mimetype": "text/x-python",
   "name": "python",
   "nbconvert_exporter": "python",
   "pygments_lexer": "ipython3",
   "version": "3.6.5"
  }
 },
 "nbformat": 4,
 "nbformat_minor": 2
}
